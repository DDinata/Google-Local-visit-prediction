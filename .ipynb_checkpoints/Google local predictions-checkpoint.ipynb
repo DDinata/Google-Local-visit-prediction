{
 "cells": [
  {
   "cell_type": "code",
   "execution_count": 39,
   "metadata": {
    "collapsed": true
   },
   "outputs": [],
   "source": [
    "import gzip\n",
    "import numpy as np\n",
    "import random\n",
    "from collections import defaultdict"
   ]
  },
  {
   "cell_type": "code",
   "execution_count": 12,
   "metadata": {
    "collapsed": true
   },
   "outputs": [],
   "source": [
    "def readGz(f):\n",
    "  for l in gzip.open(f):\n",
    "    yield eval(l)"
   ]
  },
  {
   "cell_type": "code",
   "execution_count": 42,
   "metadata": {
    "collapsed": true
   },
   "outputs": [],
   "source": [
    "# Visit prediction\n",
    "# 1"
   ]
  },
  {
   "cell_type": "code",
   "execution_count": 150,
   "metadata": {
    "collapsed": true
   },
   "outputs": [],
   "source": [
    "# 100,000 sets for training and another 100,000 for validation\n",
    "businessCount = defaultdict(int)\n",
    "totalPurchases = 0\n",
    "visitVal = []\n",
    "\n",
    "for l in readGz(\"train.json.gz\"):\n",
    "    if (totalPurchases < 100000):\n",
    "        user,business = l['userID'],l['businessID']\n",
    "        businessCount[business] += 1\n",
    "        totalPurchases += 1\n",
    "    else:\n",
    "        user,business = l['userID'],l['businessID']\n",
    "        visitVal.append((user, business, 1))\n",
    "    "
   ]
  },
  {
   "cell_type": "code",
   "execution_count": 152,
   "metadata": {},
   "outputs": [],
   "source": [
    "# create 100,000 more non-visited data points\n",
    "\n",
    "\n",
    "visited = set()\n",
    "uniqueUser = set()\n",
    "uniqueBuss = set()\n",
    "\n",
    "for u,b,c in visitVal:\n",
    "    uniqueUser.add(u)\n",
    "    uniqueBuss.add(b)\n",
    "    visited.add((u,b))\n",
    "\n",
    "for l in range(0,100000):\n",
    "    user = random.sample(uniqueUser, 1)[0]\n",
    "    business = random.sample(uniqueBuss, 1)[0]\n",
    "    while ((user,business) in visited):\n",
    "        user = random.sample(uniqueUser, 1)[0]\n",
    "        business = random.sample(uniqueBuss, 1)[0]\n",
    "    visitVal.append((user,business, 0))"
   ]
  },
  {
   "cell_type": "code",
   "execution_count": 154,
   "metadata": {},
   "outputs": [
    {
     "data": {
      "text/plain": [
       "200000"
      ]
     },
     "execution_count": 154,
     "metadata": {},
     "output_type": "execute_result"
    }
   ],
   "source": [
    "len(visitVal)"
   ]
  },
  {
   "cell_type": "code",
   "execution_count": 155,
   "metadata": {
    "collapsed": true
   },
   "outputs": [],
   "source": [
    "mostPopular = [(businessCount[x], x) for x in businessCount]\n",
    "mostPopular.sort()\n",
    "mostPopular.reverse()"
   ]
  },
  {
   "cell_type": "code",
   "execution_count": 157,
   "metadata": {},
   "outputs": [
    {
     "name": "stdout",
     "output_type": "stream",
     "text": [
      "0.621255\n"
     ]
    }
   ],
   "source": [
    "return1 = set()\n",
    "count = 0\n",
    "for ic, i in mostPopular:\n",
    "    count += ic\n",
    "    return1.add(i)\n",
    "    if count > totalPurchases/2: break\n",
    "\n",
    "correct = 0\n",
    "index = 0\n",
    "\n",
    "for u,b,c in visitVal:\n",
    "    if (((b in return1) and (c==1)) or ((b not in return1) and (c==0))) :\n",
    "        correct += 1\n",
    "    index += 1\n",
    "    \n",
    "accuracy = float(correct)/len(visitVal)\n",
    "print accuracy"
   ]
  },
  {
   "cell_type": "code",
   "execution_count": 119,
   "metadata": {
    "collapsed": true
   },
   "outputs": [],
   "source": [
    "#2"
   ]
  },
  {
   "cell_type": "code",
   "execution_count": 158,
   "metadata": {},
   "outputs": [
    {
     "name": "stdout",
     "output_type": "stream",
     "text": [
      "0.58301\n"
     ]
    }
   ],
   "source": [
    "# Try 75th percentile\n",
    "return1 = set()\n",
    "count = 0\n",
    "for ic, i in mostPopular:\n",
    "    count += ic\n",
    "    return1.add(i)\n",
    "    if count > totalPurchases/4: break\n",
    "\n",
    "correct = 0\n",
    "index = 0\n",
    "\n",
    "for u,b,c in visitVal:\n",
    "    if (((b in return1) and (c==1)) or ((b not in return1) and (c==0))) :\n",
    "        correct += 1\n",
    "    index += 1\n",
    "    \n",
    "accuracy = float(correct)/len(visitVal)\n",
    "print accuracy"
   ]
  },
  {
   "cell_type": "code",
   "execution_count": 162,
   "metadata": {},
   "outputs": [
    {
     "name": "stdout",
     "output_type": "stream",
     "text": [
      "0.60618\n"
     ]
    }
   ],
   "source": [
    "# Try 25th percentile\n",
    "\n",
    "return1 = set()\n",
    "count = 0\n",
    "for ic, i in mostPopular:\n",
    "    count += ic\n",
    "    return1.add(i)\n",
    "    if count > 3*totalPurchases/4: break\n",
    "\n",
    "correct = 0\n",
    "index = 0\n",
    "\n",
    "for u,b,c in visitVal:\n",
    "    if (((b in return1) and (c==1)) or ((b not in return1) and (c==0))) :\n",
    "        correct += 1\n",
    "    index += 1\n",
    "    \n",
    "accuracy = float(correct)/len(visitVal)\n",
    "print accuracy"
   ]
  },
  {
   "cell_type": "code",
   "execution_count": 171,
   "metadata": {},
   "outputs": [
    {
     "name": "stdout",
     "output_type": "stream",
     "text": [
      "0.622945\n"
     ]
    }
   ],
   "source": [
    "# Try 40th percentile\n",
    "\n",
    "return1 = set()\n",
    "count = 0\n",
    "for ic, i in mostPopular:\n",
    "    count += ic\n",
    "    return1.add(i)\n",
    "    if count > 6*totalPurchases/10: break\n",
    "\n",
    "correct = 0\n",
    "index = 0\n",
    "\n",
    "for u,b,c in visitVal:\n",
    "    if (((b in return1) and (c==1)) or ((b not in return1) and (c==0))) :\n",
    "        correct += 1\n",
    "    index += 1\n",
    "    \n",
    "accuracy = float(correct)/len(visitVal)\n",
    "print accuracy"
   ]
  },
  {
   "cell_type": "code",
   "execution_count": 172,
   "metadata": {},
   "outputs": [
    {
     "name": "stdout",
     "output_type": "stream",
     "text": [
      "0.61187\n"
     ]
    }
   ],
   "source": [
    "# Try 60th percentile\n",
    "\n",
    "return1 = set()\n",
    "count = 0\n",
    "for ic, i in mostPopular:\n",
    "    count += ic\n",
    "    return1.add(i)\n",
    "    if count > 4*totalPurchases/10: break\n",
    "\n",
    "correct = 0\n",
    "index = 0\n",
    "\n",
    "for u,b,c in visitVal:\n",
    "    if (((b in return1) and (c==1)) or ((b not in return1) and (c==0))) :\n",
    "        correct += 1\n",
    "    index += 1\n",
    "    \n",
    "accuracy = float(correct)/len(visitVal)\n",
    "print accuracy"
   ]
  },
  {
   "cell_type": "code",
   "execution_count": 173,
   "metadata": {
    "collapsed": true
   },
   "outputs": [],
   "source": [
    "# It seems that 50th percentile gives the highest acuracy and although the 40th percentile test give slightly better, \n",
    "# I believe this is due to random chance. I think it is the best because  "
   ]
  },
  {
   "cell_type": "code",
   "execution_count": 174,
   "metadata": {
    "collapsed": true
   },
   "outputs": [],
   "source": [
    "# 3 \n",
    "# Users may tend to repeatedly visit business of the same type. Build a baseline that returns ‘True’ if\n",
    "# a user has visited a business of the same category before (at least one category in common), or zero\n",
    "# otherwise"
   ]
  },
  {
   "cell_type": "code",
   "execution_count": 328,
   "metadata": {},
   "outputs": [],
   "source": [
    "# 100,000 sets for training and another 100,000 for validation\n",
    "businessCount = defaultdict(int)\n",
    "totalPurchases = 0\n",
    "visitVal = []\n",
    "userCats = {}\n",
    "\n",
    "for l in readGz(\"train.json.gz\"):\n",
    "    if (totalPurchases < 100000):\n",
    "        user,business,categories = l['userID'],l['businessID'],l['categories']\n",
    "        userCats[user] = list(set(userCats.get(user,[])).union(categories))\n",
    "        \n",
    "    else:\n",
    "        user,business,categories = l['userID'],l['businessID'],l['categories']\n",
    "        visitVal.append((user, business, categories, 1))\n",
    "            \n",
    "    totalPurchases += 1"
   ]
  },
  {
   "cell_type": "code",
   "execution_count": 329,
   "metadata": {},
   "outputs": [
    {
     "data": {
      "text/plain": [
       "[u'Donut Shop',\n",
       " u'European Restaurant',\n",
       " u'Chinese Restaurant',\n",
       " u'Middle Eastern Restaurant',\n",
       " u'Dessert Shop',\n",
       " u'Asian Restaurant',\n",
       " u'Ice Cream Shop']"
      ]
     },
     "execution_count": 329,
     "metadata": {},
     "output_type": "execute_result"
    }
   ],
   "source": [
    "userCats['U600574911']"
   ]
  },
  {
   "cell_type": "code",
   "execution_count": 330,
   "metadata": {
    "collapsed": true
   },
   "outputs": [],
   "source": [
    "# create 100,000 more non-visited data points\n",
    "\n",
    "visited = set()\n",
    "uniqueUser = set()\n",
    "uniqueBuss = set()\n",
    "bussCat = {}\n",
    "\n",
    "for u,b,c,d in visitVal:\n",
    "    uniqueUser.add(u)\n",
    "    uniqueBuss.add(b)\n",
    "    visited.add((u,b))\n",
    "    bussCat[b] = c\n",
    "    "
   ]
  },
  {
   "cell_type": "code",
   "execution_count": 331,
   "metadata": {},
   "outputs": [],
   "source": [
    "for l in range(0,100000):\n",
    "    user = random.sample(uniqueUser, 1)[0]\n",
    "    bussiness = random.sample(uniqueBuss, 1)[0]\n",
    "  \n",
    "    while ((user,business) in visited):\n",
    "        user = random.sample(uniqueUser, 1)[0]\n",
    "        business = random.sample(uniqueBuss, 1)[0]\n",
    "        \n",
    "    visitVal.append((user,business, bussCat[business], 0))\n",
    "    "
   ]
  },
  {
   "cell_type": "code",
   "execution_count": 332,
   "metadata": {},
   "outputs": [
    {
     "data": {
      "text/plain": [
       "('U237829706', 'B556394301', [u'Restaurant', u'Soul Food Restaurant'], 1)"
      ]
     },
     "execution_count": 332,
     "metadata": {},
     "output_type": "execute_result"
    }
   ],
   "source": [
    "visitVal[100]"
   ]
  },
  {
   "cell_type": "code",
   "execution_count": 333,
   "metadata": {},
   "outputs": [
    {
     "data": {
      "text/plain": [
       "('U932542850', 'B589288198', [u'American Restaurant'], 0)"
      ]
     },
     "execution_count": 333,
     "metadata": {},
     "output_type": "execute_result"
    }
   ],
   "source": [
    "visitVal[100001]"
   ]
  },
  {
   "cell_type": "code",
   "execution_count": 334,
   "metadata": {},
   "outputs": [
    {
     "name": "stdout",
     "output_type": "stream",
     "text": [
      "0.66293\n"
     ]
    }
   ],
   "source": [
    "# Test the accuracy\n",
    "\n",
    "predicts = []\n",
    "for user,business,cat,d in visitVal:\n",
    "    cat1 = userCats.get(user,[])\n",
    "\n",
    "    intersection = list(set(cat1) & set(cat))\n",
    "    \n",
    "    if intersection:\n",
    "        predicts.append(1)\n",
    "    else:\n",
    "        predicts.append(0)\n",
    "\n",
    "accuracy = [(a[3]==b) for (a,b) in zip(visitVal,predicts)]\n",
    "print 1.0*sum(accuracy)/len(accuracy)"
   ]
  },
  {
   "cell_type": "code",
   "execution_count": 339,
   "metadata": {},
   "outputs": [],
   "source": [
    "predictions = open(\"predictions_Visit.txt\", 'w')\n",
    "for l in open(\"pairs_Visit.txt\"):\n",
    "    if l.startswith(\"userID\"):\n",
    "        #header\n",
    "        predictions.write(l)\n",
    "        continue\n",
    "\n",
    "    u,i = l.strip().split('-')\n",
    "    cat1 = userCats.get(u,[])\n",
    "    cat2 = bussCat.get(i,[])\n",
    "    intersection = list(set(cat1) & set(cat2))\n",
    "    \n",
    "    if intersection:\n",
    "        predictions.write(u + '-' + i + \",1\\n\")\n",
    "    else:\n",
    "        predictions.write(u + '-' + i + \",0\\n\")\n",
    "\n",
    "predictions.close()"
   ]
  },
  {
   "cell_type": "code",
   "execution_count": 340,
   "metadata": {
    "collapsed": true
   },
   "outputs": [],
   "source": [
    "# 4\n",
    "# I uploaded my solution to Kaggle and got a score of 0.64930\n",
    "# My user name is David Dinata"
   ]
  },
  {
   "cell_type": "code",
   "execution_count": 341,
   "metadata": {
    "collapsed": true
   },
   "outputs": [],
   "source": [
    "# Category prediction\n",
    "# 5"
   ]
  },
  {
   "cell_type": "code",
   "execution_count": null,
   "metadata": {
    "collapsed": true
   },
   "outputs": [],
   "source": []
  }
 ],
 "metadata": {
  "kernelspec": {
   "display_name": "Python 2",
   "language": "python",
   "name": "python2"
  },
  "language_info": {
   "codemirror_mode": {
    "name": "ipython",
    "version": 2
   },
   "file_extension": ".py",
   "mimetype": "text/x-python",
   "name": "python",
   "nbconvert_exporter": "python",
   "pygments_lexer": "ipython2",
   "version": "2.7.14"
  }
 },
 "nbformat": 4,
 "nbformat_minor": 2
}
