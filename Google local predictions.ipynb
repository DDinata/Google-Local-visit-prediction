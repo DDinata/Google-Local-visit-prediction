{
 "cells": [
  {
   "cell_type": "code",
   "execution_count": null,
   "metadata": {
    "collapsed": true
   },
   "outputs": [],
   "source": [
    "import gzip\n",
    "from collections import defaultdict"
   ]
  },
  {
   "cell_type": "code",
   "execution_count": null,
   "metadata": {
    "collapsed": true
   },
   "outputs": [],
   "source": [
    "def readGz(f):\n",
    "  for l in gzip.open(f):\n",
    "    yield eval(l)\n",
    "\n",
    "### Rating baseline: compute averages for each user, or return the global average if we've never seen the user before"
   ]
  },
  {
   "cell_type": "code",
   "execution_count": null,
   "metadata": {
    "collapsed": true
   },
   "outputs": [],
   "source": [
    "allRatings = []\n",
    "userRatings = defaultdict(list)\n",
    "for l in readGz(\"train.json.gz\"):\n",
    "  user,business = l['userID'],l['businessID']\n",
    "  allRatings.append(l['rating'])\n",
    "  userRatings[user].append(l['rating'])"
   ]
  },
  {
   "cell_type": "code",
   "execution_count": null,
   "metadata": {
    "collapsed": true
   },
   "outputs": [],
   "source": [
    "globalAverage = sum(allRatings) / len(allRatings)\n",
    "userAverage = {}\n",
    "for u in userRatings:\n",
    "  userAverage[u] = sum(userRatings[u]) / len(userRatings[u])"
   ]
  },
  {
   "cell_type": "code",
   "execution_count": null,
   "metadata": {
    "collapsed": true
   },
   "outputs": [],
   "source": [
    "predictions = open(\"predictions_Rating.txt\", 'w')\n",
    "for l in open(\"pairs_Rating.txt\"):\n",
    "  if l.startswith(\"userID\"):\n",
    "    #header\n",
    "    predictions.write(l)\n",
    "    continue\n",
    "  u,i = l.strip().split('-')\n",
    "  if u in userAverage:\n",
    "    predictions.write(u + '-' + i + ',' + str(userAverage[u]) + '\\n')\n",
    "  else:\n",
    "    predictions.write(u + '-' + i + ',' + str(globalAverage) + '\\n')\n",
    "\n",
    "predictions.close()\n",
    "\n",
    "### Would-visit baseline: just rank which businesses are popular and which are not, and return '1' if a business is among the top-ranked\n",
    "\n",
    "businessCount = defaultdict(int)\n",
    "totalPurchases = 0\n",
    "\n",
    "for l in readGz(\"train.json.gz\"):\n",
    "  user,business = l['userID'],l['businessID']\n",
    "  businessCount[business] += 1\n",
    "  totalPurchases += 1\n",
    "\n",
    "mostPopular = [(businessCount[x], x) for x in businessCount]\n",
    "mostPopular.sort()\n",
    "mostPopular.reverse()\n",
    "\n",
    "return1 = set()\n",
    "count = 0\n",
    "for ic, i in mostPopular:\n",
    "  count += ic\n",
    "  return1.add(i)\n",
    "  if count > totalPurchases/2: break\n",
    "\n",
    "predictions = open(\"predictions_Visit.txt\", 'w')\n",
    "for l in open(\"pairs_Visit.txt\"):\n",
    "  if l.startswith(\"userID\"):\n",
    "    #header\n",
    "    predictions.write(l)\n",
    "    continue\n",
    "  u,i = l.strip().split('-')\n",
    "  if i in return1:\n",
    "    predictions.write(u + '-' + i + \",1\\n\")\n",
    "  else:\n",
    "    predictions.write(u + '-' + i + \",0\\n\")\n",
    "\n",
    "predictions.close()\n",
    "\n",
    "### Category prediction baseline: Just consider some of the most common words from each category\n",
    "\n",
    "catDict = {\n",
    "  \"American Restaurant\": 0,\n",
    "  \"Bar\": 1,\n",
    "  \"Asian Restaurant\": 2,\n",
    "  \"European Restaurant\": 3,\n",
    "  \"Italian Restaurant\": 4,\n",
    "  \"Fast Food Restaurant\": 5,\n",
    "  \"Mexican Restaurant\": 6,\n",
    "  \"Seafood Restaurant\": 7,\n",
    "  \"Coffee Shop\": 8,\n",
    "  \"Sandwich Shop\": 9\n",
    "}\n",
    "\n",
    "predictions = open(\"predictions_Category.txt\", 'w')\n",
    "predictions.write(\"userID-reviewHash,category\\n\")\n",
    "for l in readGz(\"test_Category.json.gz\"):\n",
    "  cat = catDict['American Restaurant'] # If there's no evidence, just choose the most common category in the dataset\n",
    "  words = l['reviewText'].lower()\n",
    "  if 'america' in words:\n",
    "    cat = catDict['American Restaurant']\n",
    "  if 'bar' in words or 'beer' in words:\n",
    "    cat = catDict['Bar']\n",
    "  if 'asia' in words:\n",
    "    cat = catDict['Asian Restaurant']\n",
    "  if 'europe' in words:\n",
    "    cat = catDict['European Restaurant']\n",
    "  if 'italian' in words:\n",
    "    cat = catDict['Italian Restaurant']\n",
    "  if 'fast' in words:\n",
    "    cat = catDict['Fast Food Restaurant']\n",
    "  if 'mexic' in words:\n",
    "    cat = catDict['Mexican Restaurant']\n",
    "  if 'coffee' in words:\n",
    "    cat = catDict['Coffee Shop']\n",
    "  if 'sandwich' in words:\n",
    "    cat = catDict['Sandwich Shop']\n",
    "  predictions.write(l['userID'] + '-' + l['reviewHash'] + \",\" + str(cat) + \"\\n\")\n",
    "\n",
    "predictions.close()"
   ]
  }
 ],
 "metadata": {
  "kernelspec": {
   "display_name": "Python 2",
   "language": "python",
   "name": "python2"
  },
  "language_info": {
   "codemirror_mode": {
    "name": "ipython",
    "version": 2
   },
   "file_extension": ".py",
   "mimetype": "text/x-python",
   "name": "python",
   "nbconvert_exporter": "python",
   "pygments_lexer": "ipython2",
   "version": "2.7.14"
  }
 },
 "nbformat": 4,
 "nbformat_minor": 2
}
